{
 "cells": [
  {
   "cell_type": "markdown",
   "metadata": {},
   "source": [
    "<center>\n",
    "    <img src=\"https://cf-courses-data.s3.us.cloud-object-storage.appdomain.cloud/IBMDeveloperSkillsNetwork-DS0105EN-SkillsNetwork/labs/Module2/images/SN_web_lightmode.png\" width=\"300\" alt=\"cognitiveclass.ai logo\">\n",
    "</center>\n"
   ]
  },
  {
   "cell_type": "markdown",
   "metadata": {},
   "source": [
    "# Notebook"
   ]
  },
  {
   "cell_type": "markdown",
   "metadata": {},
   "source": [
    "This notebook is a final project for the data science course. It demonstrates basic proficiency in using **Jupyter Notebooks**, creating **Markdown cells**, writing simple **Python code**, and listing key data science tools, languages, and libraries."
   ]
  },
  {
   "cell_type": "markdown",
   "metadata": {},
   "source": [
    "## Data Science Languages 📊\n",
    "Some of the most popular languages used in Data Science include:\n",
    "\n",
    "1.  **Python** 🐍 (Widely used for its comprehensive libraries and general-purpose capabilities)\n",
    "2.  **R** 📈 (Excellent for statistical computing and graphics)\n",
    "3.  **SQL** 💾 (Essential for managing and querying data in relational databases)\n",
    "4.  **Julia** 🚀 (Known for high-performance numerical and scientific computing)\n",
    "5.  **Scala** ⚙️ (Often used with Big Data tools like Apache Spark)"
   ]
  },
  {
   "cell_type": "markdown",
   "metadata": {},
   "source": [
    "## Data Science Libraries 📚\n",
    "\n",
    "Libraries are modules of pre-written code that make data science tasks easier. Some common examples include:\n",
    "\n",
    "### **Core Python Libraries**\n",
    "* **Pandas**: Used primarily for **data manipulation and analysis**, especially with structured data (like tables/DataFrames).\n",
    "* **NumPy**: Essential for **numerical computing** in Python, providing support for large, multi-dimensional arrays and matrices.\n",
    "* **Matplotlib** and **Seaborn**: Widely used for creating **static, interactive, and animated data visualizations**.\n",
    "\n",
    "### **Machine Learning and Deep Learning**\n",
    "* **Scikit-learn**: A popular library for classic **Machine Learning** algorithms, including classification, regression, and clustering.\n",
    "* **TensorFlow** and **PyTorch**: Leading frameworks for building and training **Deep Learning** models."
   ]
  },
  {
   "cell_type": "markdown",
   "metadata": {},
   "source": [
    "## Data Science Tools 🛠️\n",
    "\n",
    "| Category | Tool |\n",
    "| :--- | :--- |\n",
    "| **Data Management** | MySQL, PostgreSQL, MongoDB |\n",
    "| **Development Environments** | Jupyter Notebook, RStudio, VS Code |\n",
    "| **Big Data** | Apache Spark, Hadoop, Flink |\n",
    "| **Cloud Platforms** | AWS, Azure, Google Cloud |"
   ]
  },
  {
   "cell_type": "markdown",
   "metadata": {},
   "source": [
    "## Introduction to Arithmetic Expressions ➗➕\n",
    "\n",
    "The following two exercises will demonstrate how to use **Python code cells** to perform basic arithmetic operations, including multiplying, adding, and converting units (minutes to hours)."
   ]
  },
  {
   "cell_type": "code",
   "execution_count": 4,
   "metadata": {},
   "outputs": [
    {
     "name": "stdout",
     "output_type": "stream",
     "text": [
      "17\n"
     ]
    }
   ],
   "source": [
    "result = (3 * 4) + 5\n",
    "print(result)"
   ]
  },
  {
   "cell_type": "code",
   "execution_count": 6,
   "metadata": {},
   "outputs": [
    {
     "name": "stdout",
     "output_type": "stream",
     "text": [
      "200 minutes is equal to 3.33 hours\n"
     ]
    }
   ],
   "source": [
    "minutes = 200\n",
    "hours = minutes / 60\n",
    "print(f\"{minutes} minutes is equal to {hours:.2f} hours\")"
   ]
  },
  {
   "cell_type": "markdown",
   "metadata": {},
   "source": [
    "## Objectives 🎯\n",
    "\n",
    "The primary objectives achieved in this final assignment notebook are to:\n",
    "\n",
    "* Demonstrate proficiency in using the **JupyterLite Notebook** environment.\n",
    "* Successfully create and correctly format multiple **Markdown cells** (headings, lists, bold text, and tables).\n",
    "* Execute basic **Python code cells** for arithmetic operations and unit conversion.\n",
    "* List and categorize common **data science tools**, languages, and libraries.\n",
    "* Prepare the completed notebook for public sharing via a **GitHub repository**."
   ]
  },
  {
   "cell_type": "markdown",
   "metadata": {},
   "source": [
    "## Author 👤\n",
    "\n",
    "This final assignment notebook was created by: **Bhav Bothare**"
   ]
  },
  {
   "cell_type": "code",
   "execution_count": null,
   "metadata": {},
   "outputs": [],
   "source": []
  }
 ],
 "metadata": {
  "kernelspec": {
   "display_name": "Python 3 (ipykernel)",
   "language": "python",
   "name": "python3"
  },
  "language_info": {
   "codemirror_mode": {
    "name": "ipython",
    "version": 3
   },
   "file_extension": ".py",
   "mimetype": "text/x-python",
   "name": "python",
   "nbconvert_exporter": "python",
   "pygments_lexer": "ipython3",
   "version": "3.12.8"
  }
 },
 "nbformat": 4,
 "nbformat_minor": 4
}
